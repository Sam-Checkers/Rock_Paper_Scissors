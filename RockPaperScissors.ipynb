{
 "cells": [
  {
   "cell_type": "code",
   "execution_count": null,
   "id": "b11669db-0905-4fb7-a484-04acf83a3664",
   "metadata": {},
   "outputs": [],
   "source": []
  },
  {
   "cell_type": "code",
   "execution_count": 90,
   "id": "85ad00c5-f85c-47ab-bd4d-7bf56699ecc7",
   "metadata": {},
   "outputs": [
    {
     "name": "stdin",
     "output_type": "stream",
     "text": [
      "Rock/Paper/Scissors/Score/Quit rock\n"
     ]
    },
    {
     "name": "stdout",
     "output_type": "stream",
     "text": [
      "Tie\n",
      "🌑 🌑\n"
     ]
    },
    {
     "name": "stdin",
     "output_type": "stream",
     "text": [
      "Rock/Paper/Scissors/Score/Quit paper\n"
     ]
    },
    {
     "name": "stdout",
     "output_type": "stream",
     "text": [
      "Scissors CUT Paper! Computer Victory!\n",
      "✂✂✂📈✂✂✂\n"
     ]
    },
    {
     "name": "stdin",
     "output_type": "stream",
     "text": [
      "Rock/Paper/Scissors/Score/Quit paper\n"
     ]
    },
    {
     "name": "stdout",
     "output_type": "stream",
     "text": [
      "Tie\n",
      "📄 📄\n"
     ]
    },
    {
     "name": "stdin",
     "output_type": "stream",
     "text": [
      "Rock/Paper/Scissors/Score/Quit paper\n"
     ]
    },
    {
     "name": "stdout",
     "output_type": "stream",
     "text": [
      "Scissors CUT Paper! Computer Victory!\n",
      "✂✂✂📈✂✂✂\n"
     ]
    },
    {
     "name": "stdin",
     "output_type": "stream",
     "text": [
      "Rock/Paper/Scissors/Score/Quit paper\n"
     ]
    },
    {
     "name": "stdout",
     "output_type": "stream",
     "text": [
      "Scissors CUT Paper! Computer Victory!\n",
      "✂✂✂📈✂✂✂\n"
     ]
    },
    {
     "name": "stdin",
     "output_type": "stream",
     "text": [
      "Rock/Paper/Scissors/Score/Quit paper\n"
     ]
    },
    {
     "name": "stdout",
     "output_type": "stream",
     "text": [
      "Paper COVERS Rock! Player Victory!\n",
      "📄📄📄\n",
      "📄🌑📄\n",
      "📄📄📄\n"
     ]
    },
    {
     "name": "stdin",
     "output_type": "stream",
     "text": [
      "Rock/Paper/Scissors/Score/Quit gun\n"
     ]
    },
    {
     "name": "stdout",
     "output_type": "stream",
     "text": [
      "Gun beats all. Player wins!\n",
      "💥🔫\n"
     ]
    },
    {
     "name": "stdin",
     "output_type": "stream",
     "text": [
      "Rock/Paper/Scissors/Score/Quit score\n"
     ]
    },
    {
     "name": "stdout",
     "output_type": "stream",
     "text": [
      "Player: 101 Opponent: 3\n"
     ]
    },
    {
     "name": "stdin",
     "output_type": "stream",
     "text": [
      "Rock/Paper/Scissors/Score/Quit quit\n"
     ]
    }
   ],
   "source": [
    "import random\n",
    "\n",
    "class RockPaperScissors:\n",
    "    \n",
    "    def __init__(self):\n",
    "        self.player = []\n",
    "        self.computer = []\n",
    "        self.player_score = []\n",
    "        self.computer_score = []\n",
    "\n",
    "    def computer_move(self):\n",
    "        random_number = random.randint(1,3)\n",
    "        if random_number == 1:\n",
    "            self.computer.append('Rock')\n",
    "        elif random_number == 2:\n",
    "            self.computer.append('Paper')\n",
    "        elif random_number == 3:\n",
    "            self.computer.append('Scissors')\n",
    "\n",
    "    def outcome(self):\n",
    "        if self.player[-1] == 'Rock' and self.computer[-1] == 'Scissors':\n",
    "            print('Rock CRUSHES Scissors! Player Victory!')\n",
    "            print(\"🌑\\n🌑\\n🌑\\n✂\")\n",
    "            self.player_score.append(1)\n",
    "        elif self.player[-1] == 'Rock' and self.computer[-1] == 'Paper':\n",
    "            print('Paper COVERS Rock! Computer Victory!')\n",
    "            print(\"📄📄📄\\n📄🌑📄\\n📄📄📄\")\n",
    "            self.computer_score.append(1)\n",
    "        elif self.player[-1] == 'Rock' and self.computer[-1] == 'Rock':\n",
    "            print('Tie')\n",
    "            print(\"🌑 🌑\")\n",
    "        elif self.player[-1] == 'Paper' and self.computer[-1] == 'Scissors':\n",
    "            print('Scissors CUT Paper! Computer Victory!')\n",
    "            print(\"✂✂✂📈✂✂✂\")\n",
    "            self.computer_score.append(1)\n",
    "        elif self.player[-1] == 'Paper' and self.computer[-1] == 'Rock':\n",
    "            print('Paper COVERS Rock! Player Victory!')\n",
    "            print(\"📄📄📄\\n📄🌑📄\\n📄📄📄\")\n",
    "            self.player_score.append(1)\n",
    "        elif self.player[-1] == 'Paper' and self.computer[-1] == 'Paper':\n",
    "            print('Tie')\n",
    "            print(\"📄 📄\")\n",
    "        elif self.player[-1] == 'Scissors' and self.computer[-1] == 'Rock':\n",
    "            print('Rock CRUSHES Paper! Computer Victory!')\n",
    "            print(\"🌑\\n🌑\\n🌑\\n✂\")\n",
    "            self.computer_score.append(1)\n",
    "        elif self.player[-1] == 'Scissors' and self.computer[-1] == 'Paper':\n",
    "            print('Scissors CUT Paper! Player Victory!')\n",
    "            print(\"✂✂✂📈✂✂✂\")\n",
    "            self.player_score.append(1)\n",
    "        elif self.player[-1] == 'Scissors' and self.computer[-1] == 'Scissors':\n",
    "            print('Tie')\n",
    "            print(\"✂✂\")\n",
    "        elif self.player[-1] == 'Gun':\n",
    "            print('Gun beats all. Player Wins!')\n",
    "            print(\"💥🔫\")\n",
    "            self.player_score.append(100)\n",
    "                \n",
    "game = RockPaperScissors()\n",
    "\n",
    "while True:\n",
    "    \n",
    "    action = input('Rock/Paper/Scissors/Score/Quit')\n",
    "    \n",
    "    if action.lower() == 'rock':\n",
    "        game.player.append('Rock')\n",
    "        game.computer_move()\n",
    "        game.outcome()\n",
    "    elif action.lower() == 'paper':\n",
    "        game.player.append('Paper')\n",
    "        game.computer_move()\n",
    "        game.outcome()\n",
    "    elif action.lower() == 'scissors':\n",
    "        game.player.append('Scissors')\n",
    "        game.computer_move()\n",
    "        game.outcome()\n",
    "    elif action.lower() == 'gun':\n",
    "        game.player.append('Gun')\n",
    "        game.computer_move()\n",
    "        game.outcome()\n",
    "    elif action.lower() == 'score':\n",
    "        print(f'Player: {sum(game.player_score)} Opponent: {sum(game.computer_score)}')\n",
    "    elif action.lower() == 'quit':\n",
    "        break\n",
    "    else:\n",
    "        print('Invalid input. Try again.')"
   ]
  },
  {
   "cell_type": "code",
   "execution_count": null,
   "id": "28f3c8e6-9b85-4169-92d8-9564ce7a072e",
   "metadata": {},
   "outputs": [],
   "source": []
  }
 ],
 "metadata": {
  "kernelspec": {
   "display_name": "anaconda-2022.05-py39",
   "language": "python",
   "name": "conda-env-anaconda-2022.05-py39-py"
  },
  "language_info": {
   "codemirror_mode": {
    "name": "ipython",
    "version": 3
   },
   "file_extension": ".py",
   "mimetype": "text/x-python",
   "name": "python",
   "nbconvert_exporter": "python",
   "pygments_lexer": "ipython3",
   "version": "3.9.12"
  }
 },
 "nbformat": 4,
 "nbformat_minor": 5
}
